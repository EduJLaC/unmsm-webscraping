{
 "nbformat": 4,
 "nbformat_minor": 2,
 "metadata": {
  "language_info": {
   "name": "python",
   "codemirror_mode": {
    "name": "ipython",
    "version": 3
   },
   "version": "3.8.1-final"
  },
  "orig_nbformat": 2,
  "file_extension": ".py",
  "mimetype": "text/x-python",
  "name": "python",
  "npconvert_exporter": "python",
  "pygments_lexer": "ipython3",
  "version": 3,
  "kernelspec": {
   "name": "python38132bita2756962a3a74724857fd08b5c31ae5c",
   "display_name": "Python 3.8.1 32-bit"
  }
 },
 "cells": [
  {
   "cell_type": "code",
   "execution_count": 77,
   "metadata": {},
   "outputs": [
    {
     "data": {
      "text/html": "<div>\n<style scoped>\n    .dataframe tbody tr th:only-of-type {\n        vertical-align: middle;\n    }\n\n    .dataframe tbody tr th {\n        vertical-align: top;\n    }\n\n    .dataframe thead th {\n        text-align: right;\n    }\n</style>\n<table border=\"1\" class=\"dataframe\">\n  <thead>\n    <tr style=\"text-align: right;\">\n      <th></th>\n      <th>SEDE</th>\n      <th>CODIGO</th>\n      <th>APELLIDOS Y NOMBRES</th>\n      <th>E.P</th>\n      <th>PUNTAJE</th>\n      <th>MERITOGENERAL</th>\n      <th>MERITOSEDE</th>\n      <th>MERITOEAP</th>\n      <th>MERITO SEDEE.P</th>\n      <th>OBSERVACION</th>\n    </tr>\n  </thead>\n  <tbody>\n    <tr>\n      <th>0</th>\n      <td>LIMA</td>\n      <td>699128</td>\n      <td>ABAD HUAMAN, FRANCISCO JAVIER</td>\n      <td>202</td>\n      <td>1032.750</td>\n      <td>1757</td>\n      <td>1586</td>\n      <td>60</td>\n      <td>56</td>\n      <td></td>\n    </tr>\n    <tr>\n      <th>1</th>\n      <td>LIMA</td>\n      <td>642781</td>\n      <td>ACHAYA ÑAHUI, RONELD VICENTE</td>\n      <td>202</td>\n      <td>196.375</td>\n      <td>25638</td>\n      <td>21935</td>\n      <td>510</td>\n      <td>461</td>\n      <td></td>\n    </tr>\n    <tr>\n      <th>2</th>\n      <td>LIMA</td>\n      <td>691123</td>\n      <td>ACUÑA GOMEZ, DIEGO JOSE</td>\n      <td>202</td>\n      <td>870.500</td>\n      <td>4473</td>\n      <td>4022</td>\n      <td>130</td>\n      <td>120</td>\n      <td></td>\n    </tr>\n    <tr>\n      <th>3</th>\n      <td>LIMA</td>\n      <td>661828</td>\n      <td>ACUÑA VELASQUEZ, SERGIO ALFIERI</td>\n      <td>202</td>\n      <td>631.875</td>\n      <td>12066</td>\n      <td>10681</td>\n      <td>274</td>\n      <td>247</td>\n      <td></td>\n    </tr>\n    <tr>\n      <th>4</th>\n      <td>LIMA</td>\n      <td>638883</td>\n      <td>AGUILAR LINDO, AGUSTIN ALEJANDRO</td>\n      <td>202</td>\n      <td>1104.000</td>\n      <td>1092</td>\n      <td>983</td>\n      <td>27</td>\n      <td>25</td>\n      <td></td>\n    </tr>\n    <tr>\n      <th>...</th>\n      <td>...</td>\n      <td>...</td>\n      <td>...</td>\n      <td>...</td>\n      <td>...</td>\n      <td>...</td>\n      <td>...</td>\n      <td>...</td>\n      <td>...</td>\n      <td>...</td>\n    </tr>\n    <tr>\n      <th>469</th>\n      <td>LIMA</td>\n      <td>699831</td>\n      <td>ZAPATA INGA, JANIO ADOLFO</td>\n      <td>202</td>\n      <td>620.875</td>\n      <td>12535</td>\n      <td>11077</td>\n      <td>282</td>\n      <td>255</td>\n      <td></td>\n    </tr>\n    <tr>\n      <th>470</th>\n      <td>LIMA</td>\n      <td>681453</td>\n      <td>ZAVALETA NUÑEZ, DANIEL ANDRÉS</td>\n      <td>202</td>\n      <td>1179.500</td>\n      <td>624</td>\n      <td>561</td>\n      <td>11</td>\n      <td>10</td>\n      <td></td>\n    </tr>\n    <tr>\n      <th>471</th>\n      <td>LIMA</td>\n      <td>622463</td>\n      <td>ZEGARRA CHUQUIMUNI, JOSE MIGUEL</td>\n      <td>202</td>\n      <td>418.625</td>\n      <td>21242</td>\n      <td>18349</td>\n      <td>425</td>\n      <td>382</td>\n      <td></td>\n    </tr>\n    <tr>\n      <th>472</th>\n      <td>LIMA</td>\n      <td>647098</td>\n      <td>ZEGARRA GUTIÉRREZ, FABRIZZIO ANDRE</td>\n      <td>202</td>\n      <td>670.500</td>\n      <td>10639</td>\n      <td>9451</td>\n      <td>250</td>\n      <td>226</td>\n      <td></td>\n    </tr>\n    <tr>\n      <th>473</th>\n      <td>LIMA</td>\n      <td>636845</td>\n      <td>ZEVALLOS MEDINA, ALONSO SEBASTIAN</td>\n      <td>202</td>\n      <td>340.875</td>\n      <td>23639</td>\n      <td>20303</td>\n      <td>469</td>\n      <td>422</td>\n      <td></td>\n    </tr>\n  </tbody>\n</table>\n<p>474 rows × 10 columns</p>\n</div>",
      "text/plain": "     SEDE  CODIGO                 APELLIDOS Y NOMBRES  E.P   PUNTAJE  \\\n0    LIMA  699128       ABAD HUAMAN, FRANCISCO JAVIER  202  1032.750   \n1    LIMA  642781        ACHAYA ÑAHUI, RONELD VICENTE  202   196.375   \n2    LIMA  691123             ACUÑA GOMEZ, DIEGO JOSE  202   870.500   \n3    LIMA  661828     ACUÑA VELASQUEZ, SERGIO ALFIERI  202   631.875   \n4    LIMA  638883    AGUILAR LINDO, AGUSTIN ALEJANDRO  202  1104.000   \n..    ...     ...                                 ...  ...       ...   \n469  LIMA  699831           ZAPATA INGA, JANIO ADOLFO  202   620.875   \n470  LIMA  681453       ZAVALETA NUÑEZ, DANIEL ANDRÉS  202  1179.500   \n471  LIMA  622463     ZEGARRA CHUQUIMUNI, JOSE MIGUEL  202   418.625   \n472  LIMA  647098  ZEGARRA GUTIÉRREZ, FABRIZZIO ANDRE  202   670.500   \n473  LIMA  636845   ZEVALLOS MEDINA, ALONSO SEBASTIAN  202   340.875   \n\n    MERITOGENERAL MERITOSEDE MERITOEAP MERITO SEDEE.P OBSERVACION  \n0            1757       1586        60             56              \n1           25638      21935       510            461              \n2            4473       4022       130            120              \n3           12066      10681       274            247              \n4            1092        983        27             25              \n..            ...        ...       ...            ...         ...  \n469         12535      11077       282            255              \n470           624        561        11             10              \n471         21242      18349       425            382              \n472         10639       9451       250            226              \n473         23639      20303       469            422              \n\n[474 rows x 10 columns]"
     },
     "execution_count": 77,
     "metadata": {},
     "output_type": "execute_result"
    }
   ],
   "source": [
    "import pandas as pd\n",
    "import numpy as np\n",
    "\n",
    "path = \"ResultSDP20201\\LIMA\\ResultSDP20201-LIMA-INGENIERÍA DE SOFTWARE.csv\"\n",
    "df = pd.read_csv(path)\n",
    "df"
   ]
  },
  {
   "cell_type": "code",
   "execution_count": 19,
   "metadata": {},
   "outputs": [
    {
     "data": {
      "text/html": "<div>\n<style scoped>\n    .dataframe tbody tr th:only-of-type {\n        vertical-align: middle;\n    }\n\n    .dataframe tbody tr th {\n        vertical-align: top;\n    }\n\n    .dataframe thead th {\n        text-align: right;\n    }\n</style>\n<table border=\"1\" class=\"dataframe\">\n  <thead>\n    <tr style=\"text-align: right;\">\n      <th></th>\n      <th>E.P</th>\n      <th>PUNTAJE</th>\n      <th>MERITOGENERAL</th>\n      <th>MERITOSEDE</th>\n      <th>MERITOEAP</th>\n    </tr>\n  </thead>\n  <tbody>\n    <tr>\n      <th>0</th>\n      <td>202</td>\n      <td>1032.750</td>\n      <td>1757</td>\n      <td>1586</td>\n      <td>60</td>\n    </tr>\n    <tr>\n      <th>1</th>\n      <td>202</td>\n      <td>196.375</td>\n      <td>25638</td>\n      <td>21935</td>\n      <td>510</td>\n    </tr>\n    <tr>\n      <th>2</th>\n      <td>202</td>\n      <td>870.500</td>\n      <td>4473</td>\n      <td>4022</td>\n      <td>130</td>\n    </tr>\n    <tr>\n      <th>3</th>\n      <td>202</td>\n      <td>631.875</td>\n      <td>12066</td>\n      <td>10681</td>\n      <td>274</td>\n    </tr>\n    <tr>\n      <th>4</th>\n      <td>202</td>\n      <td>1104.000</td>\n      <td>1092</td>\n      <td>983</td>\n      <td>27</td>\n    </tr>\n    <tr>\n      <th>...</th>\n      <td>...</td>\n      <td>...</td>\n      <td>...</td>\n      <td>...</td>\n      <td>...</td>\n    </tr>\n    <tr>\n      <th>469</th>\n      <td>202</td>\n      <td>620.875</td>\n      <td>12535</td>\n      <td>11077</td>\n      <td>282</td>\n    </tr>\n    <tr>\n      <th>470</th>\n      <td>202</td>\n      <td>1179.500</td>\n      <td>624</td>\n      <td>561</td>\n      <td>11</td>\n    </tr>\n    <tr>\n      <th>471</th>\n      <td>202</td>\n      <td>418.625</td>\n      <td>21242</td>\n      <td>18349</td>\n      <td>425</td>\n    </tr>\n    <tr>\n      <th>472</th>\n      <td>202</td>\n      <td>670.500</td>\n      <td>10639</td>\n      <td>9451</td>\n      <td>250</td>\n    </tr>\n    <tr>\n      <th>473</th>\n      <td>202</td>\n      <td>340.875</td>\n      <td>23639</td>\n      <td>20303</td>\n      <td>469</td>\n    </tr>\n  </tbody>\n</table>\n<p>474 rows × 5 columns</p>\n</div>",
      "text/plain": "     E.P   PUNTAJE MERITOGENERAL MERITOSEDE MERITOEAP\n0    202  1032.750          1757       1586        60\n1    202   196.375         25638      21935       510\n2    202   870.500          4473       4022       130\n3    202   631.875         12066      10681       274\n4    202  1104.000          1092        983        27\n..   ...       ...           ...        ...       ...\n469  202   620.875         12535      11077       282\n470  202  1179.500           624        561        11\n471  202   418.625         21242      18349       425\n472  202   670.500         10639       9451       250\n473  202   340.875         23639      20303       469\n\n[474 rows x 5 columns]"
     },
     "execution_count": 19,
     "metadata": {},
     "output_type": "execute_result"
    }
   ],
   "source": [
    "df.iloc[:,3:8]"
   ]
  },
  {
   "cell_type": "code",
   "execution_count": 37,
   "metadata": {},
   "outputs": [
    {
     "data": {
      "text/plain": "0      1032.750\n1       196.375\n2       870.500\n3       631.875\n4      1104.000\n         ...   \n469     620.875\n470    1179.500\n471     418.625\n472     670.500\n473     340.875\nName: PUNTAJE, Length: 474, dtype: float64"
     },
     "execution_count": 37,
     "metadata": {},
     "output_type": "execute_result"
    }
   ],
   "source": [
    "# Conversion de todos los valores de object a float64\n",
    "df['PUNTAJE'] = (df['PUNTAJE']).apply(pd.to_numeric, errors='coerce')\n",
    "df['PUNTAJE']"
   ]
  },
  {
   "cell_type": "code",
   "execution_count": 110,
   "metadata": {},
   "outputs": [
    {
     "data": {
      "text/html": "<div>\n<style scoped>\n    .dataframe tbody tr th:only-of-type {\n        vertical-align: middle;\n    }\n\n    .dataframe tbody tr th {\n        vertical-align: top;\n    }\n\n    .dataframe thead th {\n        text-align: right;\n    }\n</style>\n<table border=\"1\" class=\"dataframe\">\n  <thead>\n    <tr style=\"text-align: right;\">\n      <th></th>\n      <th>SEDE</th>\n      <th>CODIGO</th>\n      <th>APELLIDOS Y NOMBRES</th>\n      <th>E.P</th>\n      <th>PUNTAJE</th>\n      <th>MERITOGENERAL</th>\n      <th>MERITOSEDE</th>\n      <th>MERITOEAP</th>\n      <th>MERITO SEDEE.P</th>\n      <th>OBSERVACION</th>\n    </tr>\n  </thead>\n  <tbody>\n    <tr>\n      <th>21</th>\n      <td>LIMA</td>\n      <td>626702</td>\n      <td>ANCAJIMA DIAZ, DIEGO ALONSO</td>\n      <td>202</td>\n      <td>1338.0</td>\n      <td>166</td>\n      <td>150</td>\n      <td>1</td>\n      <td>1</td>\n      <td></td>\n    </tr>\n    <tr>\n      <th>303</th>\n      <td>LIMA</td>\n      <td>626274</td>\n      <td>PEREZ BAZAN, EYSEN CHRISTOPHER</td>\n      <td>202</td>\n      <td>1304.0</td>\n      <td>227</td>\n      <td>205</td>\n      <td>2</td>\n      <td>2</td>\n      <td></td>\n    </tr>\n  </tbody>\n</table>\n</div>",
      "text/plain": "     SEDE  CODIGO             APELLIDOS Y NOMBRES  E.P  PUNTAJE  \\\n21   LIMA  626702     ANCAJIMA DIAZ, DIEGO ALONSO  202   1338.0   \n303  LIMA  626274  PEREZ BAZAN, EYSEN CHRISTOPHER  202   1304.0   \n\n     MERITOGENERAL MERITOSEDE MERITOEAP MERITO SEDEE.P OBSERVACION  \n21             166        150         1              1              \n303            227        205         2              2              "
     },
     "execution_count": 110,
     "metadata": {},
     "output_type": "execute_result"
    }
   ],
   "source": [
    "# Posible solución ... -[Faltaria buscar como unir esta nueva columna al df original]- o e\n",
    "df2 = df[df['OBSERVACION'] != 'AUSENTE']\n",
    "df2['CODIGO'] = df2['CODIGO'].astype(np.int32)\n",
    "df2['MERITOGENERAL'] = df2['MERITOGENERAL'].astype(np.int32)\n",
    "df2['PUNTAJE'] = df2['PUNTAJE'].astype(np.float16)\n",
    "df2.iloc[:,7:9].astype(np.int32)\n",
    "df2[df2['PUNTAJE'] > 1300]"
   ]
  },
  {
   "cell_type": "code",
   "execution_count": 50,
   "metadata": {},
   "outputs": [
    {
     "data": {
      "text/html": "<div>\n<style scoped>\n    .dataframe tbody tr th:only-of-type {\n        vertical-align: middle;\n    }\n\n    .dataframe tbody tr th {\n        vertical-align: top;\n    }\n\n    .dataframe thead th {\n        text-align: right;\n    }\n</style>\n<table border=\"1\" class=\"dataframe\">\n  <thead>\n    <tr style=\"text-align: right;\">\n      <th></th>\n      <th>SEDE</th>\n      <th>CODIGO</th>\n      <th>APELLIDOS Y NOMBRES</th>\n      <th>E.P</th>\n      <th>PUNTAJE</th>\n      <th>MERITOGENERAL</th>\n      <th>MERITOSEDE</th>\n      <th>MERITOEAP</th>\n      <th>MERITO SEDEE.P</th>\n      <th>OBSERVACION</th>\n    </tr>\n  </thead>\n  <tbody>\n    <tr>\n      <th>74</th>\n      <td>LIMA</td>\n      <td>696677</td>\n      <td>CABRERA MONTALICO, MARCO ANTONIO</td>\n      <td>202</td>\n      <td>NaN</td>\n      <td>NaN</td>\n      <td>NaN</td>\n      <td>NaN</td>\n      <td>NaN</td>\n      <td>AUSENTE</td>\n    </tr>\n    <tr>\n      <th>306</th>\n      <td>LIMA</td>\n      <td>665462</td>\n      <td>PEREZ REYNA, SEAN KARL HEINS</td>\n      <td>202</td>\n      <td>NaN</td>\n      <td>NaN</td>\n      <td>NaN</td>\n      <td>NaN</td>\n      <td>NaN</td>\n      <td>AUSENTE</td>\n    </tr>\n    <tr>\n      <th>309</th>\n      <td>LIMA</td>\n      <td>698430</td>\n      <td>PILCO GALLARDO, ALVARO CHRISTIAN</td>\n      <td>202</td>\n      <td>NaN</td>\n      <td>NaN</td>\n      <td>NaN</td>\n      <td>NaN</td>\n      <td>NaN</td>\n      <td>AUSENTE</td>\n    </tr>\n    <tr>\n      <th>314</th>\n      <td>LIMA</td>\n      <td>634378</td>\n      <td>POLASTRE ASIN, DIEGO JESUS</td>\n      <td>202</td>\n      <td>NaN</td>\n      <td>NaN</td>\n      <td>NaN</td>\n      <td>NaN</td>\n      <td>NaN</td>\n      <td>AUSENTE</td>\n    </tr>\n    <tr>\n      <th>326</th>\n      <td>LIMA</td>\n      <td>625566</td>\n      <td>QUISPE CANAHUALPA, DANIEL ALONSO</td>\n      <td>202</td>\n      <td>NaN</td>\n      <td>NaN</td>\n      <td>NaN</td>\n      <td>NaN</td>\n      <td>NaN</td>\n      <td>AUSENTE</td>\n    </tr>\n    <tr>\n      <th>330</th>\n      <td>LIMA</td>\n      <td>664262</td>\n      <td>QUISPE MORE, DIEGO DANIEL</td>\n      <td>202</td>\n      <td>NaN</td>\n      <td>NaN</td>\n      <td>NaN</td>\n      <td>NaN</td>\n      <td>NaN</td>\n      <td>AUSENTE</td>\n    </tr>\n    <tr>\n      <th>357</th>\n      <td>LIMA</td>\n      <td>670608</td>\n      <td>ROJAS CCAMA, CARLOS ANDRES</td>\n      <td>202</td>\n      <td>NaN</td>\n      <td>NaN</td>\n      <td>NaN</td>\n      <td>NaN</td>\n      <td>NaN</td>\n      <td>AUSENTE</td>\n    </tr>\n  </tbody>\n</table>\n</div>",
      "text/plain": "     SEDE  CODIGO               APELLIDOS Y NOMBRES  E.P PUNTAJE  \\\n74   LIMA  696677  CABRERA MONTALICO, MARCO ANTONIO  202     NaN   \n306  LIMA  665462      PEREZ REYNA, SEAN KARL HEINS  202     NaN   \n309  LIMA  698430  PILCO GALLARDO, ALVARO CHRISTIAN  202     NaN   \n314  LIMA  634378        POLASTRE ASIN, DIEGO JESUS  202     NaN   \n326  LIMA  625566  QUISPE CANAHUALPA, DANIEL ALONSO  202     NaN   \n330  LIMA  664262         QUISPE MORE, DIEGO DANIEL  202     NaN   \n357  LIMA  670608        ROJAS CCAMA, CARLOS ANDRES  202     NaN   \n\n    MERITOGENERAL MERITOSEDE MERITOEAP MERITO SEDEE.P OBSERVACION  \n74            NaN        NaN       NaN            NaN     AUSENTE  \n306           NaN        NaN       NaN            NaN     AUSENTE  \n309           NaN        NaN       NaN            NaN     AUSENTE  \n314           NaN        NaN       NaN            NaN     AUSENTE  \n326           NaN        NaN       NaN            NaN     AUSENTE  \n330           NaN        NaN       NaN            NaN     AUSENTE  \n357           NaN        NaN       NaN            NaN     AUSENTE  "
     },
     "execution_count": 50,
     "metadata": {},
     "output_type": "execute_result"
    }
   ],
   "source": [
    "df = df.replace(r'^\\s*$', np.nan, regex=True)\n",
    "df[df['OBSERVACION'] == 'AUSENTE']\n",
    "#df['MERITOGENERAL'] = df['MERITOGENERAL'].astype(np.int8)"
   ]
  },
  {
   "cell_type": "code",
   "execution_count": 68,
   "metadata": {},
   "outputs": [
    {
     "data": {
      "text/plain": "0       1757\n1      25638\n2       4473\n3      12066\n4       1092\n       ...  \n468    20611\n469    12535\n471    21242\n472    10639\n473    23639\nName: MERITOGENERAL, Length: 445, dtype: int16"
     },
     "execution_count": 68,
     "metadata": {},
     "output_type": "execute_result"
    }
   ],
   "source": [
    "# 2da posible solucion\n",
    "merito_general = df[df['OBSERVACION'] != 'AUSENTE']['MERITOGENERAL'].astype(np.int16)"
   ]
  }
 ]
}